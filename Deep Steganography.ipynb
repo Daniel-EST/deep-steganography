{
  "cells": [
    {
      "attachments": {},
      "cell_type": "markdown",
      "metadata": {},
      "source": [
        "# Deep Steganography"
      ]
    },
    {
      "cell_type": "code",
      "execution_count": 1,
      "metadata": {
        "id": "jGP_5d4HBYTz"
      },
      "outputs": [],
      "source": [
        "import os\n",
        "os.environ[\"TF_CPP_MIN_LOG_LEVEL\"] = \"2\"\n",
        "\n",
        "import warnings\n",
        "warnings.filterwarnings(\"ignore\")"
      ]
    },
    {
      "cell_type": "code",
      "execution_count": 2,
      "metadata": {
        "id": "sN1PP563BYT1"
      },
      "outputs": [],
      "source": [
        "BATCH_SIZE = 32\n",
        "EPOCHS = 100"
      ]
    },
    {
      "cell_type": "code",
      "execution_count": 3,
      "metadata": {
        "colab": {
          "base_uri": "https://localhost:8080/"
        },
        "id": "ygYSeHxPBYT2",
        "outputId": "9e1e4df3-6b3d-42ed-ddb0-7fcb1ca2cf70"
      },
      "outputs": [
        {
          "data": {
            "text/plain": [
              "[PhysicalDevice(name='/physical_device:GPU:0', device_type='GPU')]"
            ]
          },
          "execution_count": 3,
          "metadata": {},
          "output_type": "execute_result"
        }
      ],
      "source": [
        "import numpy as np\n",
        "import tensorflow as tf\n",
        "tf.config.list_physical_devices('GPU')"
      ]
    },
    {
      "attachments": {},
      "cell_type": "markdown",
      "metadata": {},
      "source": [
        "### Defining layers"
      ]
    },
    {
      "cell_type": "code",
      "execution_count": 4,
      "metadata": {
        "id": "jX1J3f_aBYT3"
      },
      "outputs": [],
      "source": [
        "class ConvLayer(tf.keras.layers.Layer):\n",
        "    def __init__(self, n_layers, filters=50, kernel_size=(3, 3), activation=tf.nn.relu, **kwargs):\n",
        "        super().__init__(**kwargs)\n",
        "        self.convs = []\n",
        "        for conv in range(n_layers):\n",
        "            self.convs.append(\n",
        "                tf.keras.layers.Conv2D(filters=filters, kernel_size=kernel_size, activation=activation, padding='same')\n",
        "            )\n",
        "    \n",
        "    def call(self, input_tensor, training=False):\n",
        "        x = self.convs[0](input_tensor, training=training)\n",
        "        for i in range(1, len(self.convs)):\n",
        "            x = self.convs[i](x, training=training)\n",
        "            \n",
        "        return x"
      ]
    },
    {
      "cell_type": "code",
      "execution_count": 5,
      "metadata": {
        "id": "hXTlex7LBYT4"
      },
      "outputs": [],
      "source": [
        "class PrepLayer(tf.keras.layers.Layer):\n",
        "    def __init__(self, **kwargs):\n",
        "        super().__init__(**kwargs)\n",
        "        self.conv_layer_4_3x3 = ConvLayer(4, filters=50, kernel_size=(3, 3), activation=tf.nn.relu)\n",
        "        self.conv_layer_4_4x4 = ConvLayer(4, filters=50, kernel_size=(4, 4), activation=tf.nn.relu)\n",
        "        self.conv_layer_4_5x5 = ConvLayer(4, filters=50, kernel_size=(5, 5), activation=tf.nn.relu)\n",
        "\n",
        "        self.concat_1 = tf.keras.layers.Concatenate(axis=3)\n",
        "\n",
        "        self.conv_1_3x3 = ConvLayer(1, filters=50, kernel_size=(3, 3), activation=tf.nn.relu)\n",
        "        self.conv_1_4x4 = ConvLayer(1, filters=50, kernel_size=(4, 4), activation=tf.nn.relu)\n",
        "        self.conv_1_5x5 = ConvLayer(1, filters=50, kernel_size=(5, 5), activation=tf.nn.relu)\n",
        "\n",
        "        self.concat_2 = tf.keras.layers.Concatenate(axis=3)\n",
        "    \n",
        "    def call(self, input_tensor, training=False):\n",
        "        prep_input = tf.keras.layers.Rescaling(1./255, input_shape=input_tensor.shape)(input_tensor)\n",
        "        conv_4_3x3 = self.conv_layer_4_3x3(prep_input, training=training)\n",
        "        conv_4_4x4 = self.conv_layer_4_4x4(prep_input, training=training)\n",
        "        conv_4_5x5 = self.conv_layer_4_5x5(prep_input, training=training)\n",
        "\n",
        "        concat_1 = self.concat_1([conv_4_3x3, conv_4_4x4, conv_4_5x5])\n",
        "\n",
        "        conv_1_3x3 =  self.conv_1_3x3(concat_1)\n",
        "        conv_1_4x4 =  self.conv_1_4x4(concat_1)\n",
        "        conv_1_5x5 =  self.conv_1_5x5(concat_1)\n",
        "\n",
        "        return self.concat_2([conv_1_3x3, conv_1_4x4, conv_1_5x5])"
      ]
    },
    {
      "cell_type": "code",
      "execution_count": 6,
      "metadata": {
        "id": "71Egc2neBYT4"
      },
      "outputs": [],
      "source": [
        "class HideLayer(tf.keras.layers.Layer):\n",
        "    def __init__(self, **kwargs):\n",
        "        super().__init__(**kwargs)\n",
        "        self.prep_layer = PrepLayer()\n",
        "        self.concat_1 = tf.keras.layers.Concatenate(axis=3)\n",
        "\n",
        "        self.conv_layer_4_3x3 = ConvLayer(4, filters=50, kernel_size=(3, 3), activation=tf.nn.relu)\n",
        "        self.conv_layer_4_4x4 = ConvLayer(4, filters=50, kernel_size=(4, 4), activation=tf.nn.relu)\n",
        "        self.conv_layer_4_5x5 = ConvLayer(4, filters=50, kernel_size=(5, 5), activation=tf.nn.relu)\n",
        "\n",
        "        self.concat_2 = tf.keras.layers.Concatenate(axis=3)\n",
        "\n",
        "        self.conv_1_3x3 = ConvLayer(1, filters=50, kernel_size=(3, 3), activation=tf.nn.relu)\n",
        "        self.conv_1_4x4 = ConvLayer(1, filters=50, kernel_size=(4, 4), activation=tf.nn.relu)\n",
        "        self.conv_1_5x5 = ConvLayer(1, filters=50, kernel_size=(5, 5), activation=tf.nn.relu)\n",
        "\n",
        "        self.concat_3 = tf.keras.layers.Concatenate(axis=3)\n",
        "\n",
        "        self.conv_1_1x1 = ConvLayer(1, filters=3, kernel_size=(1, 1), activation=tf.nn.relu)\n",
        "    \n",
        "    def call(self, input_tensor, training=False):\n",
        "        prep_input = input_tensor[0]\n",
        "        hide_input = tf.keras.layers.Rescaling(1./255, input_shape=input_tensor[1].shape)(input_tensor[1])\n",
        "        concat_1 = self.concat_1([prep_input, hide_input])\n",
        "\n",
        "        conv_4_3x3 = self.conv_layer_4_3x3(concat_1, training=training)\n",
        "        conv_4_4x4 = self.conv_layer_4_4x4(concat_1, training=training)\n",
        "        conv_4_5x5 = self.conv_layer_4_5x5(concat_1, training=training)\n",
        "\n",
        "        concat_2 = self.concat_2([conv_4_3x3, conv_4_4x4, conv_4_5x5])\n",
        "\n",
        "        conv_1_3x3 =  self.conv_1_3x3(concat_2)\n",
        "        conv_1_4x4 =  self.conv_1_4x4(concat_2)\n",
        "        conv_1_5x5 =  self.conv_1_5x5(concat_2)\n",
        "        \n",
        "        concat_3 = self.concat_3([conv_1_3x3, conv_1_4x4, conv_1_5x5])\n",
        "\n",
        "        return  self.conv_1_1x1(concat_3)\n"
      ]
    },
    {
      "cell_type": "code",
      "execution_count": 7,
      "metadata": {
        "id": "ReyvPpNoBYT5"
      },
      "outputs": [],
      "source": [
        "class RevealLayer(tf.keras.layers.Layer):\n",
        "    def __init__(self, **kwargs):\n",
        "        super().__init__(**kwargs)\n",
        "        self.conv_layer_4_3x3 = ConvLayer(4, filters=50, kernel_size=(3, 3), activation=tf.nn.relu)\n",
        "        self.conv_layer_4_4x4 = ConvLayer(4, filters=50, kernel_size=(4, 4), activation=tf.nn.relu)\n",
        "        self.conv_layer_4_5x5 = ConvLayer(4, filters=50, kernel_size=(5, 5), activation=tf.nn.relu)\n",
        "\n",
        "        self.concat_1 = tf.keras.layers.Concatenate(axis=3)\n",
        "\n",
        "        self.conv_1_3x3 = ConvLayer(1, filters=50, kernel_size=(3, 3), activation=tf.nn.relu)\n",
        "        self.conv_1_4x4 = ConvLayer(1, filters=50, kernel_size=(4, 4), activation=tf.nn.relu)\n",
        "        self.conv_1_5x5 = ConvLayer(1, filters=50, kernel_size=(5, 5), activation=tf.nn.relu)\n",
        "\n",
        "        self.concat_2 = tf.keras.layers.Concatenate(axis=3)\n",
        "\n",
        "        self.conv_1_1x1 = ConvLayer(1, filters=3, kernel_size=(1, 1), activation=tf.nn.relu)\n",
        "    \n",
        "    def call(self, input_tensor, training=False):\n",
        "\n",
        "        conv_4_3x3 = self.conv_layer_4_3x3(input_tensor, training=training)\n",
        "        conv_4_4x4 = self.conv_layer_4_4x4(input_tensor, training=training)\n",
        "        conv_4_5x5 = self.conv_layer_4_5x5(input_tensor, training=training)\n",
        "\n",
        "        concat_1 = self.concat_1([conv_4_3x3, conv_4_4x4, conv_4_5x5])\n",
        "\n",
        "        conv_1_3x3 =  self.conv_1_3x3(concat_1)\n",
        "        conv_1_4x4 =  self.conv_1_4x4(concat_1)\n",
        "        conv_1_5x5 =  self.conv_1_5x5(concat_1)\n",
        "        \n",
        "        concat_2 = self.concat_2([conv_1_3x3, conv_1_4x4, conv_1_5x5])\n",
        "\n",
        "        return  self.conv_1_1x1(concat_2)"
      ]
    },
    {
      "cell_type": "code",
      "execution_count": 8,
      "metadata": {
        "id": "zRBAuJEQBYT5"
      },
      "outputs": [],
      "source": [
        "class MyModel(tf.keras.models.Model):\n",
        "    def __init__(self, **kwargs):\n",
        "        super().__init__(**kwargs)\n",
        "        self.prep_layer = PrepLayer()\n",
        "        self.hide_layer = HideLayer()\n",
        "        self.reveal_layer = RevealLayer()\n",
        "    \n",
        "    def call(self, input_tensor, training=False):\n",
        "        secret = input_tensor[0]\n",
        "        cover = input_tensor[1]\n",
        "        prep_output = self.prep_layer(secret)\n",
        "        hide_output = self.hide_layer([prep_output, cover])\n",
        "        reveal_output = self.reveal_layer(hide_output)\n",
        "        \n",
        "        return  reveal_output, hide_output\n",
        "\n",
        "    def model(self, inputs):\n",
        "        return tf.keras.Model(inputs=inputs, outputs=self.call(inputs))"
      ]
    },
    {
      "attachments": {},
      "cell_type": "markdown",
      "metadata": {},
      "source": [
        "### Defining Loss Function"
      ]
    },
    {
      "cell_type": "code",
      "execution_count": 9,
      "metadata": {
        "id": "lcWAPwEMBYT6"
      },
      "outputs": [],
      "source": [
        "class StenographyLoss(tf.keras.losses.Loss):\n",
        "    def __init__(self, beta=1.0, **kwargs):\n",
        "        super().__init__(**kwargs)\n",
        "        self.beta = beta\n",
        "\n",
        "    def call(self, y_true, y_pred):\n",
        "        beta = tf.constant(self.beta, name='beta')\n",
        "\n",
        "        secret_true = y_true[0]\n",
        "        secret_pred = y_pred[0]\n",
        "        \n",
        "        cover_true = y_true[1]\n",
        "        cover_pred = y_pred[1]\n",
        "\n",
        "        secret_mse = tf.losses.MSE(secret_true, secret_pred)\n",
        "        cover_mse = tf.losses.MSE(cover_true, cover_pred)\n",
        "\n",
        "        return tf.reduce_mean(cover_mse + beta * secret_mse)"
      ]
    },
    {
      "cell_type": "code",
      "execution_count": 10,
      "metadata": {
        "id": "EhIAMmPHBYT6"
      },
      "outputs": [],
      "source": [
        "secret_input = tf.keras.layers.Input(shape=(64, 64, 3), name='secret_input')\n",
        "cover_input = tf.keras.layers.Input(shape=(64, 64, 3), name='cover_input')\n",
        "\n",
        "model = MyModel().model(inputs=[secret_input, cover_input])"
      ]
    },
    {
      "cell_type": "code",
      "execution_count": 11,
      "metadata": {
        "colab": {
          "base_uri": "https://localhost:8080/"
        },
        "id": "hKDdzYGjBYT7",
        "outputId": "b4c19b57-e54f-4b49-b39b-481c058e3a35"
      },
      "outputs": [
        {
          "name": "stdout",
          "output_type": "stream",
          "text": [
            "Model: \"model\"\n",
            "__________________________________________________________________________________________________\n",
            " Layer (type)                   Output Shape         Param #     Connected to                     \n",
            "==================================================================================================\n",
            " secret_input (InputLayer)      [(None, 64, 64, 3)]  0           []                               \n",
            "                                                                                                  \n",
            " prep_layer (PrepLayer)         (None, 64, 64, 150)  758250      ['secret_input[0][0]']           \n",
            "                                                                                                  \n",
            " cover_input (InputLayer)       [(None, 64, 64, 3)]  0           []                               \n",
            "                                                                                                  \n",
            " hide_layer (HideLayer)         (None, 64, 64, 3)    1133703     ['prep_layer[0][0]',             \n",
            "                                                                  'cover_input[0][0]']            \n",
            "                                                                                                  \n",
            " reveal_layer (RevealLayer)     (None, 64, 64, 3)    758703      ['hide_layer[0][0]']             \n",
            "                                                                                                  \n",
            "==================================================================================================\n",
            "Total params: 2,650,656\n",
            "Trainable params: 2,650,656\n",
            "Non-trainable params: 0\n",
            "__________________________________________________________________________________________________\n"
          ]
        }
      ],
      "source": [
        "model.summary()"
      ]
    },
    {
      "cell_type": "code",
      "execution_count": 12,
      "metadata": {
        "colab": {
          "base_uri": "https://localhost:8080/",
          "height": 422
        },
        "id": "2FM6oKlXBYT7",
        "outputId": "9ddb9350-f897-42b6-9ec1-389ff30fb4ed"
      },
      "outputs": [
        {
          "data": {
            "image/png": "[encoded data removed]",
            "text/plain": [
              "<IPython.core.display.Image object>"
            ]
          },
          "execution_count": 12,
          "metadata": {},
          "output_type": "execute_result"
        }
      ],
      "source": [
        "tf.keras.utils.plot_model(\n",
        "    model,\n",
        "    show_shapes=True,\n",
        "    show_dtype=False,\n",
        "    show_layer_names=True,\n",
        "    rankdir='TB',\n",
        "    expand_nested=False,\n",
        "    dpi=96,\n",
        "    layer_range=None,\n",
        "    show_layer_activations=False\n",
        ")"
      ]
    },
    {
      "cell_type": "code",
      "execution_count": 13,
      "metadata": {
        "id": "kGnVd9aWBYT8"
      },
      "outputs": [],
      "source": [
        "stenography_loss = StenographyLoss(beta=1.0)\n",
        "\n",
        "model.compile(\n",
        "    optimizer='adam',\n",
        "    loss=stenography_loss\n",
        "  )"
      ]
    },
    {
      "cell_type": "code",
      "execution_count": 14,
      "metadata": {
        "id": "QfwY0vl9BYT8"
      },
      "outputs": [],
      "source": [
        "callbacks = [\n",
        "    tf.keras.callbacks.EarlyStopping(patience=10),\n",
        "    tf.keras.callbacks.ModelCheckpoint(filepath='./checkpoints/model.{epoch:02d}-{val_loss:.2f}.h5'),\n",
        "    tf.keras.callbacks.TensorBoard(log_dir='./logs')\n",
        "]"
      ]
    },
    {
      "attachments": {},
      "cell_type": "markdown",
      "metadata": {},
      "source": [
        "### Loading Tiny ImageNet data"
      ]
    },
    {
      "cell_type": "code",
      "execution_count": 15,
      "metadata": {
        "id": "jdO2Y_7KdQm8"
      },
      "outputs": [],
      "source": [
        "!pip install datasets --quiet --progress-bar off"
      ]
    },
    {
      "cell_type": "code",
      "execution_count": 16,
      "metadata": {
        "colab": {
          "base_uri": "https://localhost:8080/",
          "height": 66,
          "referenced_widgets": [
            "1cece1ea8af947ffb1d094df6ba5bb3c",
            "a9864e2189894df4aa9a205d80708931",
            "3af3feb5b0e848c2a6ec65dddb10bd06",
            "9f8d7884768e4b8c821194c918b7a387",
            "08247855086944968fa02c8366d0d1b9",
            "8aca562f7bd14cbe8faef455f2eba703",
            "a77e545e4c8a477fa23fc24532373e7e",
            "cab5f845c0f7442e91ed81324fd6240b",
            "10833ce3156a497bbcd7a857cfbf7f96",
            "746208597d004f54ba8ebea90052d58a",
            "32763fc1ffbb42d28b363a94aa2e9f25"
          ]
        },
        "id": "MikMhWoTcxji",
        "outputId": "4cbaf6b8-61ce-4f8c-b4cc-700f1d7caf0f"
      },
      "outputs": [
        {
          "name": "stderr",
          "output_type": "stream",
          "text": [
            "WARNING:datasets.builder:Found cached dataset parquet (/root/.cache/huggingface/datasets/Maysee___parquet/Maysee--tiny-imagenet-35af7c46a941f08e/0.0.0/2a3b91fbd88a2c90d1dbbb32b460cf621d31bd5b05b934492fdef7d8d6f236ec)\n"
          ]
        },
        {
          "data": {
            "application/vnd.jupyter.widget-view+json": {
              "model_id": "1cece1ea8af947ffb1d094df6ba5bb3c",
              "version_major": 2,
              "version_minor": 0
            },
            "text/plain": [
              "  0%|          | 0/2 [00:00<?, ?it/s]"
            ]
          },
          "metadata": {},
          "output_type": "display_data"
        }
      ],
      "source": [
        "from datasets import load_dataset\n",
        "dataset = load_dataset(\"Maysee/tiny-imagenet\")"
      ]
    },
    {
      "cell_type": "code",
      "execution_count": 17,
      "metadata": {
        "id": "rnusEbUigMQU"
      },
      "outputs": [],
      "source": [
        "from sklearn.model_selection import train_test_split\n",
        "\n",
        "train_data, _ = train_test_split(dataset['train']['image'], train_size=.15) # Getting a subset of the Tiny ImageNet dataset.\n",
        "\n",
        "X_train, X_test = train_test_split(train_data, test_size=.1)\n",
        "X_train_secret, X_train_cover = train_test_split(X_train, test_size=.5)\n",
        "X_test_secret, X_test_cover = train_test_split(X_test, test_size=.5)\n",
        "X_val_secret, X_val_cover = train_test_split(dataset['valid']['image'], test_size=.5)\n",
        "\n",
        "del X_train\n",
        "del X_test\n",
        "del train_data"
      ]
    },
    {
      "attachments": {},
      "cell_type": "markdown",
      "metadata": {},
      "source": [
        "### Data visualization"
      ]
    },
    {
      "cell_type": "code",
      "execution_count": 18,
      "metadata": {
        "id": "3Fo10wNjBYT-"
      },
      "outputs": [],
      "source": [
        "import matplotlib.pyplot as plt\n",
        "\n",
        "def show_image(arr):\n",
        "    plt.imshow(np.array(arr, np.int32))\n",
        "    return plt"
      ]
    },
    {
      "cell_type": "code",
      "execution_count": 19,
      "metadata": {
        "colab": {
          "base_uri": "https://localhost:8080/",
          "height": 268
        },
        "id": "tUIIjGBBf6Ix",
        "outputId": "27bff807-c41c-4a10-a54e-25970d123c8e"
      },
      "outputs": [
        {
          "data": {
            "image/png": "[encoded data removed]",
            "text/plain": [
              "<Figure size 432x288 with 1 Axes>"
            ]
          },
          "metadata": {
            "needs_background": "light"
          },
          "output_type": "display_data"
        }
      ],
      "source": [
        "show_image(X_train_cover[0]).show()"
      ]
    },
    {
      "attachments": {},
      "cell_type": "markdown",
      "metadata": {},
      "source": [
        "### Data preparation"
      ]
    },
    {
      "cell_type": "code",
      "execution_count": 20,
      "metadata": {
        "id": "-QZfCM0zBYT-"
      },
      "outputs": [],
      "source": [
        "class DataGenerator(tf.keras.utils.Sequence):\n",
        "    def __init__(self, secret, cover, batch_size, shuffle=True):\n",
        "        self.secret = secret\n",
        "        self.cover = cover\n",
        "        self.batch_size = batch_size\n",
        "        self.shuffle = shuffle\n",
        "        self.datalen = len(secret)\n",
        "        self.indexes = np.arange(self.datalen)\n",
        "        if self.shuffle:\n",
        "            np.random.shuffle(self.indexes)\n",
        "\n",
        "    def __getitem__(self, index: int):\n",
        "        batch_indexes = self.indexes[index*self.batch_size:(index+1)*self.batch_size]\n",
        "        secret_batch = np.array(self.secret)[batch_indexes]\n",
        "        cover_batch = np.array(self.cover)[batch_indexes]\n",
        "\n",
        "        return [secret_batch, cover_batch], [secret_batch, cover_batch]\n",
        "\n",
        "    def __len__(self):\n",
        "        return self.datalen // self.batch_size\n",
        "\n",
        "    def on_epoch_end(self):\n",
        "        self.indexes = np.arange(self.datalen)\n",
        "        if self.shuffle:\n",
        "            np.random.shuffle(self.indexes)"
      ]
    },
    {
      "cell_type": "code",
      "execution_count": 21,
      "metadata": {
        "id": "l0v4Zlcf59Po"
      },
      "outputs": [],
      "source": [
        "for i in range(len(X_train_secret)):\n",
        "  X_train_secret[i] = tf.keras.utils.img_to_array(X_train_secret[i].convert('RGB'))\n",
        "  X_train_cover[i] = tf.keras.utils.img_to_array(X_train_cover[i].convert('RGB'))\n",
        "\n",
        "for i in range(len(X_test_secret)):\n",
        "  X_test_secret[i] = tf.keras.utils.img_to_array(X_test_secret[i].convert('RGB'))\n",
        "  X_test_cover[i] = tf.keras.utils.img_to_array(X_test_cover[i].convert('RGB'))\n",
        "\n",
        "for i in range(len(X_val_secret)):\n",
        "  X_val_secret[i] = tf.keras.utils.img_to_array(X_val_secret[i].convert('RGB'))\n",
        "  X_val_cover[i] = tf.keras.utils.img_to_array(X_val_cover[i].convert('RGB'))"
      ]
    },
    {
      "cell_type": "code",
      "execution_count": 22,
      "metadata": {
        "id": "b09_bBbuBYT_"
      },
      "outputs": [],
      "source": [
        "train_gen = DataGenerator(X_train_secret, X_train_cover, BATCH_SIZE)\n",
        "test_gen = DataGenerator(X_test_secret, X_test_cover, BATCH_SIZE, shuffle=False)\n",
        "val_gen = DataGenerator(X_val_secret, X_val_cover, BATCH_SIZE, shuffle=False)"
      ]
    },
    {
      "attachments": {},
      "cell_type": "markdown",
      "metadata": {},
      "source": [
        "### Training model"
      ]
    },
    {
      "cell_type": "code",
      "execution_count": 23,
      "metadata": {
        "colab": {
          "base_uri": "https://localhost:8080/"
        },
        "id": "XGOh0h-sBYT_",
        "outputId": "7cf4a49a-f2ae-4c22-be25-8767ec2dcc5b"
      },
      "outputs": [
        {
          "name": "stdout",
          "output_type": "stream",
          "text": [
            "Epoch 1/100\n",
            "210/210 [==============================] - 148s 603ms/step - loss: 22374.6875 - reveal_layer_loss: 11623.3174 - hide_layer_loss: 10751.3643 - val_loss: 12903.2881 - val_reveal_layer_loss: 6660.7192 - val_hide_layer_loss: 6242.5659\n",
            "Epoch 2/100\n",
            "210/210 [==============================] - 126s 599ms/step - loss: 10670.2510 - reveal_layer_loss: 6095.0859 - hide_layer_loss: 4575.1650 - val_loss: 5686.1655 - val_reveal_layer_loss: 3139.2361 - val_hide_layer_loss: 2546.9299\n",
            "Epoch 3/100\n",
            "210/210 [==============================] - 126s 598ms/step - loss: 5692.9023 - reveal_layer_loss: 3280.5112 - hide_layer_loss: 2412.3896 - val_loss: 4556.5547 - val_reveal_layer_loss: 2510.4983 - val_hide_layer_loss: 2046.0577\n",
            "Epoch 4/100\n",
            "210/210 [==============================] - 126s 598ms/step - loss: 5832.9673 - reveal_layer_loss: 3505.5029 - hide_layer_loss: 2327.4639 - val_loss: 4551.8472 - val_reveal_layer_loss: 2663.8020 - val_hide_layer_loss: 1888.0482\n",
            "Epoch 5/100\n",
            "210/210 [==============================] - 126s 601ms/step - loss: 4467.1558 - reveal_layer_loss: 2724.1870 - hide_layer_loss: 1742.9681 - val_loss: 3801.6470 - val_reveal_layer_loss: 2159.9541 - val_hide_layer_loss: 1641.6925\n",
            "Epoch 6/100\n",
            "210/210 [==============================] - 127s 604ms/step - loss: 3932.2161 - reveal_layer_loss: 2295.0493 - hide_layer_loss: 1637.1664 - val_loss: 3787.0244 - val_reveal_layer_loss: 2289.9624 - val_hide_layer_loss: 1497.0614\n",
            "Epoch 7/100\n",
            "210/210 [==============================] - 126s 602ms/step - loss: 5804.9956 - reveal_layer_loss: 3778.6680 - hide_layer_loss: 2026.3240 - val_loss: 3823.0220 - val_reveal_layer_loss: 2269.7271 - val_hide_layer_loss: 1553.2963\n",
            "Epoch 8/100\n",
            "210/210 [==============================] - 127s 602ms/step - loss: 3556.8164 - reveal_layer_loss: 2045.8213 - hide_layer_loss: 1510.9937 - val_loss: 3178.8135 - val_reveal_layer_loss: 1776.3616 - val_hide_layer_loss: 1402.4523\n",
            "Epoch 9/100\n",
            "210/210 [==============================] - 126s 601ms/step - loss: 3313.7639 - reveal_layer_loss: 1992.2705 - hide_layer_loss: 1321.4946 - val_loss: 5347.8804 - val_reveal_layer_loss: 4080.3357 - val_hide_layer_loss: 1267.5444\n",
            "Epoch 10/100\n",
            "210/210 [==============================] - 126s 600ms/step - loss: 2966.1069 - reveal_layer_loss: 1689.7866 - hide_layer_loss: 1276.3206 - val_loss: 2615.9192 - val_reveal_layer_loss: 1533.5593 - val_hide_layer_loss: 1082.3588\n",
            "Epoch 11/100\n",
            "210/210 [==============================] - 126s 600ms/step - loss: 3040.6931 - reveal_layer_loss: 1868.5745 - hide_layer_loss: 1172.1188 - val_loss: 2894.4414 - val_reveal_layer_loss: 1681.3730 - val_hide_layer_loss: 1213.0679\n",
            "Epoch 12/100\n",
            "210/210 [==============================] - 127s 602ms/step - loss: 3126.7849 - reveal_layer_loss: 2024.1235 - hide_layer_loss: 1102.6610 - val_loss: 2581.4170 - val_reveal_layer_loss: 1450.5380 - val_hide_layer_loss: 1130.8788\n",
            "Epoch 13/100\n",
            "210/210 [==============================] - 127s 604ms/step - loss: 2684.8206 - reveal_layer_loss: 1653.8965 - hide_layer_loss: 1030.9240 - val_loss: 3310.7236 - val_reveal_layer_loss: 1886.5516 - val_hide_layer_loss: 1424.1727\n",
            "Epoch 14/100\n",
            "210/210 [==============================] - 127s 605ms/step - loss: 2816.9080 - reveal_layer_loss: 1770.6257 - hide_layer_loss: 1046.2825 - val_loss: 2481.3333 - val_reveal_layer_loss: 1609.8862 - val_hide_layer_loss: 871.4469\n",
            "Epoch 15/100\n",
            "210/210 [==============================] - 127s 603ms/step - loss: 2249.4609 - reveal_layer_loss: 1474.5593 - hide_layer_loss: 774.9008 - val_loss: 1792.5560 - val_reveal_layer_loss: 1106.1473 - val_hide_layer_loss: 686.4086\n",
            "Epoch 16/100\n",
            "210/210 [==============================] - 126s 600ms/step - loss: 2328.3979 - reveal_layer_loss: 1480.5830 - hide_layer_loss: 847.8149 - val_loss: 1684.5328 - val_reveal_layer_loss: 1049.8876 - val_hide_layer_loss: 634.6451\n",
            "Epoch 17/100\n",
            "210/210 [==============================] - 126s 600ms/step - loss: 2178.2295 - reveal_layer_loss: 1448.1013 - hide_layer_loss: 730.1280 - val_loss: 3975.8337 - val_reveal_layer_loss: 3174.3127 - val_hide_layer_loss: 801.5204\n",
            "Epoch 18/100\n",
            "210/210 [==============================] - 126s 599ms/step - loss: 2380.3069 - reveal_layer_loss: 1694.8267 - hide_layer_loss: 685.4810 - val_loss: 3254.2148 - val_reveal_layer_loss: 2617.6379 - val_hide_layer_loss: 636.5765\n",
            "Epoch 19/100\n",
            "210/210 [==============================] - 126s 600ms/step - loss: 2639.2798 - reveal_layer_loss: 1814.1371 - hide_layer_loss: 825.1424 - val_loss: 1969.9978 - val_reveal_layer_loss: 1252.3102 - val_hide_layer_loss: 717.6882\n",
            "Epoch 20/100\n",
            "210/210 [==============================] - 126s 599ms/step - loss: 2139.3972 - reveal_layer_loss: 1450.7006 - hide_layer_loss: 688.6967 - val_loss: 2399.5645 - val_reveal_layer_loss: 1654.0035 - val_hide_layer_loss: 745.5607\n",
            "Epoch 21/100\n",
            "210/210 [==============================] - 126s 599ms/step - loss: 2100.3452 - reveal_layer_loss: 1541.4883 - hide_layer_loss: 558.8571 - val_loss: 1794.5427 - val_reveal_layer_loss: 1213.6975 - val_hide_layer_loss: 580.8451\n",
            "Epoch 22/100\n",
            "210/210 [==============================] - 138s 658ms/step - loss: 1761.9312 - reveal_layer_loss: 1221.9503 - hide_layer_loss: 539.9800 - val_loss: 1784.1572 - val_reveal_layer_loss: 1248.7429 - val_hide_layer_loss: 535.4141\n",
            "Epoch 23/100\n",
            "210/210 [==============================] - 138s 658ms/step - loss: 1457.6046 - reveal_layer_loss: 982.6314 - hide_layer_loss: 474.9728 - val_loss: 1365.7058 - val_reveal_layer_loss: 895.6603 - val_hide_layer_loss: 470.0458\n",
            "Epoch 24/100\n",
            "210/210 [==============================] - 126s 601ms/step - loss: 1438.7185 - reveal_layer_loss: 990.0437 - hide_layer_loss: 448.6751 - val_loss: 1463.2562 - val_reveal_layer_loss: 1033.0011 - val_hide_layer_loss: 430.2554\n",
            "Epoch 25/100\n",
            "210/210 [==============================] - 126s 601ms/step - loss: 2339.4170 - reveal_layer_loss: 1753.3318 - hide_layer_loss: 586.0859 - val_loss: 1410.4590 - val_reveal_layer_loss: 965.0211 - val_hide_layer_loss: 445.4384\n",
            "Epoch 26/100\n",
            "210/210 [==============================] - 126s 602ms/step - loss: 2034.7451 - reveal_layer_loss: 1462.9237 - hide_layer_loss: 571.8206 - val_loss: 1488.0127 - val_reveal_layer_loss: 1062.1199 - val_hide_layer_loss: 425.8930\n",
            "Epoch 27/100\n",
            "210/210 [==============================] - 127s 603ms/step - loss: 1674.4116 - reveal_layer_loss: 1165.2776 - hide_layer_loss: 509.1340 - val_loss: 1218.9297 - val_reveal_layer_loss: 820.3216 - val_hide_layer_loss: 398.6080\n",
            "Epoch 28/100\n",
            "210/210 [==============================] - 138s 656ms/step - loss: 1608.5956 - reveal_layer_loss: 1180.1527 - hide_layer_loss: 428.4419 - val_loss: 2016.0056 - val_reveal_layer_loss: 1487.5106 - val_hide_layer_loss: 528.4948\n",
            "Epoch 29/100\n",
            "210/210 [==============================] - 126s 601ms/step - loss: 1515.8082 - reveal_layer_loss: 1067.9016 - hide_layer_loss: 447.9067 - val_loss: 1199.5961 - val_reveal_layer_loss: 817.8455 - val_hide_layer_loss: 381.7502\n",
            "Epoch 30/100\n",
            "210/210 [==============================] - 126s 599ms/step - loss: 1670.4125 - reveal_layer_loss: 1173.8882 - hide_layer_loss: 496.5241 - val_loss: 1258.3917 - val_reveal_layer_loss: 899.2423 - val_hide_layer_loss: 359.1491\n",
            "Epoch 31/100\n",
            "210/210 [==============================] - 126s 598ms/step - loss: 1208.5391 - reveal_layer_loss: 851.7163 - hide_layer_loss: 356.8228 - val_loss: 1226.5507 - val_reveal_layer_loss: 859.7342 - val_hide_layer_loss: 366.8165\n",
            "Epoch 32/100\n",
            "210/210 [==============================] - 126s 598ms/step - loss: 1100.3881 - reveal_layer_loss: 754.4528 - hide_layer_loss: 345.9353 - val_loss: 1119.9326 - val_reveal_layer_loss: 787.8522 - val_hide_layer_loss: 332.0808\n",
            "Epoch 33/100\n",
            "210/210 [==============================] - 126s 597ms/step - loss: 1530.7655 - reveal_layer_loss: 1105.4213 - hide_layer_loss: 425.3435 - val_loss: 1120.6393 - val_reveal_layer_loss: 769.7700 - val_hide_layer_loss: 350.8694\n",
            "Epoch 34/100\n",
            "210/210 [==============================] - 126s 598ms/step - loss: 1144.1422 - reveal_layer_loss: 753.8124 - hide_layer_loss: 390.3300 - val_loss: 985.2385 - val_reveal_layer_loss: 645.5052 - val_hide_layer_loss: 339.7334\n",
            "Epoch 35/100\n",
            "210/210 [==============================] - 126s 600ms/step - loss: 2015.7703 - reveal_layer_loss: 1458.0375 - hide_layer_loss: 557.7327 - val_loss: 1599.3092 - val_reveal_layer_loss: 1100.0156 - val_hide_layer_loss: 499.2937\n",
            "Epoch 36/100\n",
            "210/210 [==============================] - 126s 600ms/step - loss: 1117.0402 - reveal_layer_loss: 772.2489 - hide_layer_loss: 344.7906 - val_loss: 1464.4373 - val_reveal_layer_loss: 1096.0487 - val_hide_layer_loss: 368.3890\n",
            "Epoch 37/100\n",
            "210/210 [==============================] - 126s 601ms/step - loss: 1136.9087 - reveal_layer_loss: 747.5968 - hide_layer_loss: 389.3120 - val_loss: 945.4858 - val_reveal_layer_loss: 613.6273 - val_hide_layer_loss: 331.8585\n",
            "Epoch 38/100\n",
            "210/210 [==============================] - 126s 599ms/step - loss: 1162.8853 - reveal_layer_loss: 799.7424 - hide_layer_loss: 363.1428 - val_loss: 924.6987 - val_reveal_layer_loss: 607.0819 - val_hide_layer_loss: 317.6171\n",
            "Epoch 39/100\n",
            "210/210 [==============================] - 126s 600ms/step - loss: 1180.2770 - reveal_layer_loss: 846.4025 - hide_layer_loss: 333.8746 - val_loss: 909.8252 - val_reveal_layer_loss: 586.9749 - val_hide_layer_loss: 322.8504\n",
            "Epoch 40/100\n",
            "210/210 [==============================] - 126s 598ms/step - loss: 949.6390 - reveal_layer_loss: 622.5533 - hide_layer_loss: 327.0856 - val_loss: 1262.3390 - val_reveal_layer_loss: 884.1454 - val_hide_layer_loss: 378.1929\n",
            "Epoch 41/100\n",
            "210/210 [==============================] - 126s 598ms/step - loss: 1061.3187 - reveal_layer_loss: 668.9381 - hide_layer_loss: 392.3809 - val_loss: 838.3143 - val_reveal_layer_loss: 507.4969 - val_hide_layer_loss: 330.8175\n",
            "Epoch 42/100\n",
            "210/210 [==============================] - 126s 600ms/step - loss: 1190.6133 - reveal_layer_loss: 833.0519 - hide_layer_loss: 357.5615 - val_loss: 818.6710 - val_reveal_layer_loss: 497.0304 - val_hide_layer_loss: 321.6404\n",
            "Epoch 43/100\n",
            "210/210 [==============================] - 126s 602ms/step - loss: 905.7214 - reveal_layer_loss: 552.7769 - hide_layer_loss: 352.9446 - val_loss: 807.9028 - val_reveal_layer_loss: 500.1981 - val_hide_layer_loss: 307.7048\n",
            "Epoch 44/100\n",
            "210/210 [==============================] - 138s 655ms/step - loss: 968.3220 - reveal_layer_loss: 664.9191 - hide_layer_loss: 303.4026 - val_loss: 1043.3582 - val_reveal_layer_loss: 712.7998 - val_hide_layer_loss: 330.5590\n",
            "Epoch 45/100\n",
            "210/210 [==============================] - 126s 597ms/step - loss: 1326.1554 - reveal_layer_loss: 945.9086 - hide_layer_loss: 380.2464 - val_loss: 1527.2535 - val_reveal_layer_loss: 1050.8906 - val_hide_layer_loss: 476.3636\n",
            "Epoch 46/100\n",
            "210/210 [==============================] - 127s 603ms/step - loss: 1087.6143 - reveal_layer_loss: 727.7413 - hide_layer_loss: 359.8731 - val_loss: 998.1278 - val_reveal_layer_loss: 631.2733 - val_hide_layer_loss: 366.8548\n",
            "Epoch 47/100\n",
            "210/210 [==============================] - 126s 602ms/step - loss: 976.9464 - reveal_layer_loss: 651.4415 - hide_layer_loss: 325.5049 - val_loss: 755.8207 - val_reveal_layer_loss: 451.6573 - val_hide_layer_loss: 304.1638\n",
            "Epoch 48/100\n",
            "210/210 [==============================] - 138s 656ms/step - loss: 866.1079 - reveal_layer_loss: 571.0367 - hide_layer_loss: 295.0713 - val_loss: 749.2005 - val_reveal_layer_loss: 443.4874 - val_hide_layer_loss: 305.7130\n",
            "Epoch 49/100\n",
            "210/210 [==============================] - 126s 601ms/step - loss: 951.9025 - reveal_layer_loss: 622.5393 - hide_layer_loss: 329.3633 - val_loss: 735.3559 - val_reveal_layer_loss: 422.8902 - val_hide_layer_loss: 312.4658\n",
            "Epoch 50/100\n",
            "210/210 [==============================] - 138s 656ms/step - loss: 994.3183 - reveal_layer_loss: 687.9046 - hide_layer_loss: 306.4137 - val_loss: 1125.8936 - val_reveal_layer_loss: 776.1237 - val_hide_layer_loss: 349.7698\n",
            "Epoch 51/100\n",
            "210/210 [==============================] - 126s 597ms/step - loss: 1130.5918 - reveal_layer_loss: 762.8084 - hide_layer_loss: 367.7837 - val_loss: 771.8934 - val_reveal_layer_loss: 471.0867 - val_hide_layer_loss: 300.8069\n",
            "Epoch 52/100\n",
            "210/210 [==============================] - 125s 597ms/step - loss: 792.7928 - reveal_layer_loss: 519.9908 - hide_layer_loss: 272.8018 - val_loss: 1297.2618 - val_reveal_layer_loss: 977.3478 - val_hide_layer_loss: 319.9138\n",
            "Epoch 53/100\n",
            "210/210 [==============================] - 125s 595ms/step - loss: 972.8359 - reveal_layer_loss: 632.1773 - hide_layer_loss: 340.6586 - val_loss: 775.2087 - val_reveal_layer_loss: 456.8925 - val_hide_layer_loss: 318.3164\n",
            "Epoch 54/100\n",
            "210/210 [==============================] - 126s 600ms/step - loss: 802.5449 - reveal_layer_loss: 516.2147 - hide_layer_loss: 286.3304 - val_loss: 831.4017 - val_reveal_layer_loss: 530.6929 - val_hide_layer_loss: 300.7088\n",
            "Epoch 55/100\n",
            "210/210 [==============================] - 126s 601ms/step - loss: 1196.7098 - reveal_layer_loss: 814.4639 - hide_layer_loss: 382.2465 - val_loss: 807.8776 - val_reveal_layer_loss: 485.2192 - val_hide_layer_loss: 322.6585\n",
            "Epoch 56/100\n",
            "210/210 [==============================] - 138s 655ms/step - loss: 736.3351 - reveal_layer_loss: 436.8442 - hide_layer_loss: 299.4910 - val_loss: 650.4580 - val_reveal_layer_loss: 371.1911 - val_hide_layer_loss: 279.2668\n",
            "Epoch 57/100\n",
            "210/210 [==============================] - 126s 600ms/step - loss: 888.0355 - reveal_layer_loss: 550.8927 - hide_layer_loss: 337.1424 - val_loss: 889.9518 - val_reveal_layer_loss: 571.2581 - val_hide_layer_loss: 318.6938\n",
            "Epoch 58/100\n",
            "210/210 [==============================] - 126s 598ms/step - loss: 860.8588 - reveal_layer_loss: 587.5588 - hide_layer_loss: 273.2998 - val_loss: 1297.6543 - val_reveal_layer_loss: 895.1751 - val_hide_layer_loss: 402.4792\n",
            "Epoch 59/100\n",
            "210/210 [==============================] - 126s 601ms/step - loss: 1010.7046 - reveal_layer_loss: 660.9481 - hide_layer_loss: 349.7569 - val_loss: 799.6699 - val_reveal_layer_loss: 504.2818 - val_hide_layer_loss: 295.3880\n",
            "Epoch 60/100\n",
            "210/210 [==============================] - 138s 655ms/step - loss: 763.4725 - reveal_layer_loss: 505.4258 - hide_layer_loss: 258.0467 - val_loss: 1034.5790 - val_reveal_layer_loss: 748.6717 - val_hide_layer_loss: 285.9076\n",
            "Epoch 61/100\n",
            "210/210 [==============================] - 125s 597ms/step - loss: 924.8834 - reveal_layer_loss: 612.6750 - hide_layer_loss: 312.2082 - val_loss: 756.5637 - val_reveal_layer_loss: 455.9811 - val_hide_layer_loss: 300.5827\n",
            "Epoch 62/100\n",
            "210/210 [==============================] - 125s 595ms/step - loss: 988.1774 - reveal_layer_loss: 698.5276 - hide_layer_loss: 289.6495 - val_loss: 882.5992 - val_reveal_layer_loss: 551.9495 - val_hide_layer_loss: 330.6497\n",
            "Epoch 63/100\n",
            "210/210 [==============================] - 125s 597ms/step - loss: 812.4040 - reveal_layer_loss: 524.4537 - hide_layer_loss: 287.9501 - val_loss: 637.0800 - val_reveal_layer_loss: 359.1969 - val_hide_layer_loss: 277.8832\n",
            "Epoch 64/100\n",
            "210/210 [==============================] - 126s 601ms/step - loss: 705.1205 - reveal_layer_loss: 455.0811 - hide_layer_loss: 250.0394 - val_loss: 676.5771 - val_reveal_layer_loss: 408.4032 - val_hide_layer_loss: 268.1735\n",
            "Epoch 65/100\n",
            "210/210 [==============================] - 126s 601ms/step - loss: 915.8925 - reveal_layer_loss: 619.7272 - hide_layer_loss: 296.1651 - val_loss: 858.1519 - val_reveal_layer_loss: 450.3844 - val_hide_layer_loss: 407.7676\n",
            "Epoch 66/100\n",
            "210/210 [==============================] - 138s 655ms/step - loss: 835.4161 - reveal_layer_loss: 489.4008 - hide_layer_loss: 346.0153 - val_loss: 660.7982 - val_reveal_layer_loss: 374.1298 - val_hide_layer_loss: 286.6682\n",
            "210/210 [==============================] - 126s 600ms/step - loss: 813.1669 - reveal_layer_loss: 521.2858 - hide_layer_loss: 291.8811 - val_loss: 645.3067 - val_reveal_layer_loss: 366.7581 - val_hide_layer_loss: 278.5486\n",
            "Epoch 68/100\n",
            "210/210 [==============================] - 126s 598ms/step - loss: 753.6780 - reveal_layer_loss: 510.0239 - hide_layer_loss: 243.6541 - val_loss: 776.9995 - val_reveal_layer_loss: 477.0534 - val_hide_layer_loss: 299.9460\n",
            "Epoch 69/100\n",
            "210/210 [==============================] - 126s 599ms/step - loss: 697.1790 - reveal_layer_loss: 426.1296 - hide_layer_loss: 271.0491 - val_loss: 674.3327 - val_reveal_layer_loss: 387.3721 - val_hide_layer_loss: 286.9606\n",
            "Epoch 70/100\n",
            "210/210 [==============================] - 124s 591ms/step - loss: 694.3226 - reveal_layer_loss: 430.3265 - hide_layer_loss: 263.9960 - val_loss: 663.8238 - val_reveal_layer_loss: 378.2699 - val_hide_layer_loss: 285.5541\n",
            "Epoch 71/100\n",
            "210/210 [==============================] - 124s 592ms/step - loss: 693.6407 - reveal_layer_loss: 426.6837 - hide_layer_loss: 266.9572 - val_loss: 665.2563 - val_reveal_layer_loss: 395.1892 - val_hide_layer_loss: 270.0673\n",
            "Epoch 72/100\n",
            "210/210 [==============================] - 125s 595ms/step - loss: 1344.4744 - reveal_layer_loss: 965.2856 - hide_layer_loss: 379.1892 - val_loss: 779.6772 - val_reveal_layer_loss: 465.2732 - val_hide_layer_loss: 314.4044\n",
            "Epoch 73/100\n",
            "210/210 [==============================] - 125s 596ms/step - loss: 805.4976 - reveal_layer_loss: 525.2676 - hide_layer_loss: 280.2300 - val_loss: 759.6793 - val_reveal_layer_loss: 441.3364 - val_hide_layer_loss: 318.3430\n"
          ]
        }
      ],
      "source": [
        "history = model.fit(\n",
        "    train_gen, \n",
        "    epochs=EPOCHS, \n",
        "    validation_data=val_gen, \n",
        "    verbose=1, \n",
        "    shuffle=True,\n",
        "    callbacks=callbacks\n",
        ")"
      ]
    },
    {
      "attachments": {},
      "cell_type": "markdown",
      "metadata": {},
      "source": [
        "### Testing model"
      ]
    },
    {
      "cell_type": "code",
      "execution_count": 24,
      "metadata": {
        "colab": {
          "base_uri": "https://localhost:8080/"
        },
        "id": "eKNesE7qBYUA",
        "outputId": "14ac6ee3-c61c-4ac7-8dc7-2666412b0430"
      },
      "outputs": [
        {
          "name": "stdout",
          "output_type": "stream",
          "text": [
            "23/23 [==============================] - 3s 127ms/step\n"
          ]
        }
      ],
      "source": [
        "pred = model.predict(test_gen)"
      ]
    },
    {
      "cell_type": "code",
      "execution_count": 25,
      "metadata": {
        "colab": {
          "base_uri": "https://localhost:8080/",
          "height": 285
        },
        "id": "8ZzIL8vNdm7g",
        "outputId": "3300938e-fc19-4e29-ae14-45b91f8a3e25"
      },
      "outputs": [
        {
          "data": {
            "text/plain": [
              "<module 'matplotlib.pyplot' from '/usr/local/lib/python3.9/dist-packages/matplotlib/pyplot.py'>"
            ]
          },
          "execution_count": 25,
          "metadata": {},
          "output_type": "execute_result"
        },
        {
          "data": {
            "image/png": "[encoded data removed]",
            "text/plain": [
              "<Figure size 432x288 with 1 Axes>"
            ]
          },
          "metadata": {
            "needs_background": "light"
          },
          "output_type": "display_data"
        }
      ],
      "source": [
        "show_image(X_test_secret[0]) # Secret"
      ]
    },
    {
      "cell_type": "code",
      "execution_count": 26,
      "metadata": {
        "colab": {
          "base_uri": "https://localhost:8080/",
          "height": 302
        },
        "id": "dLgZmtDiQyuB",
        "outputId": "4165dde7-99ca-4ddb-a51d-3137c7b1b523"
      },
      "outputs": [
        {
          "name": "stderr",
          "output_type": "stream",
          "text": [
            "WARNING:matplotlib.image:Clipping input data to the valid range for imshow with RGB data ([0..1] for floats or [0..255] for integers).\n"
          ]
        },
        {
          "data": {
            "text/plain": [
              "<module 'matplotlib.pyplot' from '/usr/local/lib/python3.9/dist-packages/matplotlib/pyplot.py'>"
            ]
          },
          "execution_count": 26,
          "metadata": {},
          "output_type": "execute_result"
        },
        {
          "data": {
            "image/png": "[encoded data removed]",
            "text/plain": [
              "<Figure size 432x288 with 1 Axes>"
            ]
          },
          "metadata": {
            "needs_background": "light"
          },
          "output_type": "display_data"
        }
      ],
      "source": [
        "show_image(pred[0][0]) # Revealed"
      ]
    },
    {
      "cell_type": "code",
      "execution_count": 27,
      "metadata": {
        "colab": {
          "base_uri": "https://localhost:8080/",
          "height": 285
        },
        "id": "BglWOmkAU54F",
        "outputId": "6b591f6d-7ffe-4fda-9514-91b71ab2ba0c"
      },
      "outputs": [
        {
          "data": {
            "text/plain": [
              "<module 'matplotlib.pyplot' from '/usr/local/lib/python3.9/dist-packages/matplotlib/pyplot.py'>"
            ]
          },
          "execution_count": 27,
          "metadata": {},
          "output_type": "execute_result"
        },
        {
          "data": {
            "image/png": "[encoded data removed]",
            "text/plain": [
              "<Figure size 432x288 with 1 Axes>"
            ]
          },
          "metadata": {
            "needs_background": "light"
          },
          "output_type": "display_data"
        }
      ],
      "source": [
        "show_image(X_test_cover[0]) # Cover"
      ]
    },
    {
      "cell_type": "code",
      "execution_count": 28,
      "metadata": {
        "colab": {
          "base_uri": "https://localhost:8080/",
          "height": 285
        },
        "id": "9jwfYLmoRKSx",
        "outputId": "13b770b2-c25a-4ad3-9855-b304b86a468d"
      },
      "outputs": [
        {
          "data": {
            "text/plain": [
              "<module 'matplotlib.pyplot' from '/usr/local/lib/python3.9/dist-packages/matplotlib/pyplot.py'>"
            ]
          },
          "execution_count": 28,
          "metadata": {},
          "output_type": "execute_result"
        },
        {
          "data": {
            "image/png": "[encoded data removed]",
            "text/plain": [
              "<Figure size 432x288 with 1 Axes>"
            ]
          },
          "metadata": {
            "needs_background": "light"
          },
          "output_type": "display_data"
        }
      ],
      "source": [
        "show_image(pred[1][0]) # Cover with secret"
      ]
    },
    {
      "attachments": {},
      "cell_type": "markdown",
      "metadata": {},
      "source": [
        "### Saving complete model"
      ]
    },
    {
      "cell_type": "code",
      "execution_count": 29,
      "metadata": {
        "id": "UACJL5D0Vfi-"
      },
      "outputs": [],
      "source": [
        "model.save(\"./models/complete_model.h5\", include_optimizer=False)"
      ]
    },
    {
      "attachments": {},
      "cell_type": "markdown",
      "metadata": {},
      "source": [
        "### Saving only the reveal model"
      ]
    },
    {
      "cell_type": "code",
      "execution_count": 30,
      "metadata": {},
      "outputs": [],
      "source": [
        "reveal_model = tf.keras.models.Model(\n",
        "    model.get_layer('hide_layer').output,\n",
        "    model.get_layer('reveal_layer').output\n",
        ")\n",
        "reveal_model.compile()"
      ]
    },
    {
      "cell_type": "code",
      "execution_count": 31,
      "metadata": {},
      "outputs": [],
      "source": [
        "reveal_model.save('./models/reveal_model.h5', include_optimizer=False)"
      ]
    }
  ],
  "metadata": {
    "accelerator": "GPU",
    "colab": {
      "provenance": []
    },
    "gpuClass": "standard",
    "kernelspec": {
      "display_name": "tensorflow-gpu",
      "language": "python",
      "name": "tensorflow-gpu"
    },
    "language_info": {
      "codemirror_mode": {
        "name": "ipython",
        "version": 3
      },
      "file_extension": ".py",
      "mimetype": "text/x-python",
      "name": "python",
      "nbconvert_exporter": "python",
      "pygments_lexer": "ipython3",
      "version": "3.9.13"
    },
    "vscode": {
      "interpreter": {
        "hash": "b0fa6594d8f4cbf19f97940f81e996739fb7646882a419484c72d19e05852a7e"
      }
    },
    "widgets": {
      "application/vnd.jupyter.widget-state+json": {
        "08247855086944968fa02c8366d0d1b9": {
          "model_module": "@jupyter-widgets/base",
          "model_module_version": "1.2.0",
          "model_name": "LayoutModel",
          "state": {
            "_model_module": "@jupyter-widgets/base",
            "_model_module_version": "1.2.0",
            "_model_name": "LayoutModel",
            "_view_count": null,
            "_view_module": "@jupyter-widgets/base",
            "_view_module_version": "1.2.0",
            "_view_name": "LayoutView",
            "align_content": null,
            "align_items": null,
            "align_self": null,
            "border": null,
            "bottom": null,
            "display": null,
            "flex": null,
            "flex_flow": null,
            "grid_area": null,
            "grid_auto_columns": null,
            "grid_auto_flow": null,
            "grid_auto_rows": null,
            "grid_column": null,
            "grid_gap": null,
            "grid_row": null,
            "grid_template_areas": null,
            "grid_template_columns": null,
            "grid_template_rows": null,
            "height": null,
            "justify_content": null,
            "justify_items": null,
            "left": null,
            "margin": null,
            "max_height": null,
            "max_width": null,
            "min_height": null,
            "min_width": null,
            "object_fit": null,
            "object_position": null,
            "order": null,
            "overflow": null,
            "overflow_x": null,
            "overflow_y": null,
            "padding": null,
            "right": null,
            "top": null,
            "visibility": null,
            "width": null
          }
        },
        "10833ce3156a497bbcd7a857cfbf7f96": {
          "model_module": "@jupyter-widgets/controls",
          "model_module_version": "1.5.0",
          "model_name": "ProgressStyleModel",
          "state": {
            "_model_module": "@jupyter-widgets/controls",
            "_model_module_version": "1.5.0",
            "_model_name": "ProgressStyleModel",
            "_view_count": null,
            "_view_module": "@jupyter-widgets/base",
            "_view_module_version": "1.2.0",
            "_view_name": "StyleView",
            "bar_color": null,
            "description_width": ""
          }
        },
        "1cece1ea8af947ffb1d094df6ba5bb3c": {
          "model_module": "@jupyter-widgets/controls",
          "model_module_version": "1.5.0",
          "model_name": "HBoxModel",
          "state": {
            "_dom_classes": [],
            "_model_module": "@jupyter-widgets/controls",
            "_model_module_version": "1.5.0",
            "_model_name": "HBoxModel",
            "_view_count": null,
            "_view_module": "@jupyter-widgets/controls",
            "_view_module_version": "1.5.0",
            "_view_name": "HBoxView",
            "box_style": "",
            "children": [
              "IPY_MODEL_a9864e2189894df4aa9a205d80708931",
              "IPY_MODEL_3af3feb5b0e848c2a6ec65dddb10bd06",
              "IPY_MODEL_9f8d7884768e4b8c821194c918b7a387"
            ],
            "layout": "IPY_MODEL_08247855086944968fa02c8366d0d1b9"
          }
        },
        "32763fc1ffbb42d28b363a94aa2e9f25": {
          "model_module": "@jupyter-widgets/controls",
          "model_module_version": "1.5.0",
          "model_name": "DescriptionStyleModel",
          "state": {
            "_model_module": "@jupyter-widgets/controls",
            "_model_module_version": "1.5.0",
            "_model_name": "DescriptionStyleModel",
            "_view_count": null,
            "_view_module": "@jupyter-widgets/base",
            "_view_module_version": "1.2.0",
            "_view_name": "StyleView",
            "description_width": ""
          }
        },
        "3af3feb5b0e848c2a6ec65dddb10bd06": {
          "model_module": "@jupyter-widgets/controls",
          "model_module_version": "1.5.0",
          "model_name": "FloatProgressModel",
          "state": {
            "_dom_classes": [],
            "_model_module": "@jupyter-widgets/controls",
            "_model_module_version": "1.5.0",
            "_model_name": "FloatProgressModel",
            "_view_count": null,
            "_view_module": "@jupyter-widgets/controls",
            "_view_module_version": "1.5.0",
            "_view_name": "ProgressView",
            "bar_style": "success",
            "description": "",
            "description_tooltip": null,
            "layout": "IPY_MODEL_cab5f845c0f7442e91ed81324fd6240b",
            "max": 2,
            "min": 0,
            "orientation": "horizontal",
            "style": "IPY_MODEL_10833ce3156a497bbcd7a857cfbf7f96",
            "value": 2
          }
        },
        "746208597d004f54ba8ebea90052d58a": {
          "model_module": "@jupyter-widgets/base",
          "model_module_version": "1.2.0",
          "model_name": "LayoutModel",
          "state": {
            "_model_module": "@jupyter-widgets/base",
            "_model_module_version": "1.2.0",
            "_model_name": "LayoutModel",
            "_view_count": null,
            "_view_module": "@jupyter-widgets/base",
            "_view_module_version": "1.2.0",
            "_view_name": "LayoutView",
            "align_content": null,
            "align_items": null,
            "align_self": null,
            "border": null,
            "bottom": null,
            "display": null,
            "flex": null,
            "flex_flow": null,
            "grid_area": null,
            "grid_auto_columns": null,
            "grid_auto_flow": null,
            "grid_auto_rows": null,
            "grid_column": null,
            "grid_gap": null,
            "grid_row": null,
            "grid_template_areas": null,
            "grid_template_columns": null,
            "grid_template_rows": null,
            "height": null,
            "justify_content": null,
            "justify_items": null,
            "left": null,
            "margin": null,
            "max_height": null,
            "max_width": null,
            "min_height": null,
            "min_width": null,
            "object_fit": null,
            "object_position": null,
            "order": null,
            "overflow": null,
            "overflow_x": null,
            "overflow_y": null,
            "padding": null,
            "right": null,
            "top": null,
            "visibility": null,
            "width": null
          }
        },
        "8aca562f7bd14cbe8faef455f2eba703": {
          "model_module": "@jupyter-widgets/base",
          "model_module_version": "1.2.0",
          "model_name": "LayoutModel",
          "state": {
            "_model_module": "@jupyter-widgets/base",
            "_model_module_version": "1.2.0",
            "_model_name": "LayoutModel",
            "_view_count": null,
            "_view_module": "@jupyter-widgets/base",
            "_view_module_version": "1.2.0",
            "_view_name": "LayoutView",
            "align_content": null,
            "align_items": null,
            "align_self": null,
            "border": null,
            "bottom": null,
            "display": null,
            "flex": null,
            "flex_flow": null,
            "grid_area": null,
            "grid_auto_columns": null,
            "grid_auto_flow": null,
            "grid_auto_rows": null,
            "grid_column": null,
            "grid_gap": null,
            "grid_row": null,
            "grid_template_areas": null,
            "grid_template_columns": null,
            "grid_template_rows": null,
            "height": null,
            "justify_content": null,
            "justify_items": null,
            "left": null,
            "margin": null,
            "max_height": null,
            "max_width": null,
            "min_height": null,
            "min_width": null,
            "object_fit": null,
            "object_position": null,
            "order": null,
            "overflow": null,
            "overflow_x": null,
            "overflow_y": null,
            "padding": null,
            "right": null,
            "top": null,
            "visibility": null,
            "width": null
          }
        },
        "9f8d7884768e4b8c821194c918b7a387": {
          "model_module": "@jupyter-widgets/controls",
          "model_module_version": "1.5.0",
          "model_name": "HTMLModel",
          "state": {
            "_dom_classes": [],
            "_model_module": "@jupyter-widgets/controls",
            "_model_module_version": "1.5.0",
            "_model_name": "HTMLModel",
            "_view_count": null,
            "_view_module": "@jupyter-widgets/controls",
            "_view_module_version": "1.5.0",
            "_view_name": "HTMLView",
            "description": "",
            "description_tooltip": null,
            "layout": "IPY_MODEL_746208597d004f54ba8ebea90052d58a",
            "placeholder": "​",
            "style": "IPY_MODEL_32763fc1ffbb42d28b363a94aa2e9f25",
            "value": " 2/2 [00:00&lt;00:00, 55.35it/s]"
          }
        },
        "a77e545e4c8a477fa23fc24532373e7e": {
          "model_module": "@jupyter-widgets/controls",
          "model_module_version": "1.5.0",
          "model_name": "DescriptionStyleModel",
          "state": {
            "_model_module": "@jupyter-widgets/controls",
            "_model_module_version": "1.5.0",
            "_model_name": "DescriptionStyleModel",
            "_view_count": null,
            "_view_module": "@jupyter-widgets/base",
            "_view_module_version": "1.2.0",
            "_view_name": "StyleView",
            "description_width": ""
          }
        },
        "a9864e2189894df4aa9a205d80708931": {
          "model_module": "@jupyter-widgets/controls",
          "model_module_version": "1.5.0",
          "model_name": "HTMLModel",
          "state": {
            "_dom_classes": [],
            "_model_module": "@jupyter-widgets/controls",
            "_model_module_version": "1.5.0",
            "_model_name": "HTMLModel",
            "_view_count": null,
            "_view_module": "@jupyter-widgets/controls",
            "_view_module_version": "1.5.0",
            "_view_name": "HTMLView",
            "description": "",
            "description_tooltip": null,
            "layout": "IPY_MODEL_8aca562f7bd14cbe8faef455f2eba703",
            "placeholder": "​",
            "style": "IPY_MODEL_a77e545e4c8a477fa23fc24532373e7e",
            "value": "100%"
          }
        },
        "cab5f845c0f7442e91ed81324fd6240b": {
          "model_module": "@jupyter-widgets/base",
          "model_module_version": "1.2.0",
          "model_name": "LayoutModel",
          "state": {
            "_model_module": "@jupyter-widgets/base",
            "_model_module_version": "1.2.0",
            "_model_name": "LayoutModel",
            "_view_count": null,
            "_view_module": "@jupyter-widgets/base",
            "_view_module_version": "1.2.0",
            "_view_name": "LayoutView",
            "align_content": null,
            "align_items": null,
            "align_self": null,
            "border": null,
            "bottom": null,
            "display": null,
            "flex": null,
            "flex_flow": null,
            "grid_area": null,
            "grid_auto_columns": null,
            "grid_auto_flow": null,
            "grid_auto_rows": null,
            "grid_column": null,
            "grid_gap": null,
            "grid_row": null,
            "grid_template_areas": null,
            "grid_template_columns": null,
            "grid_template_rows": null,
            "height": null,
            "justify_content": null,
            "justify_items": null,
            "left": null,
            "margin": null,
            "max_height": null,
            "max_width": null,
            "min_height": null,
            "min_width": null,
            "object_fit": null,
            "object_position": null,
            "order": null,
            "overflow": null,
            "overflow_x": null,
            "overflow_y": null,
            "padding": null,
            "right": null,
            "top": null,
            "visibility": null,
            "width": null
          }
        }
      }
    }
  },
  "nbformat": 4,
  "nbformat_minor": 0
}
