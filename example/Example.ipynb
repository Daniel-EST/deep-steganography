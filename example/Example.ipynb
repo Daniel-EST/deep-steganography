{
  "cells": [
    {
      "attachments": {},
      "cell_type": "markdown",
      "metadata": {},
      "source": [
        "# Example"
      ]
    },
    {
      "cell_type": "code",
      "execution_count": 1,
      "metadata": {
        "id": "jGP_5d4HBYTz"
      },
      "outputs": [],
      "source": [
        "import os\n",
        "os.environ[\"TF_CPP_MIN_LOG_LEVEL\"] = \"2\"\n",
        "\n",
        "import warnings\n",
        "warnings.filterwarnings(\"ignore\")"
      ]
    },
    {
      "cell_type": "code",
      "execution_count": 2,
      "metadata": {
        "colab": {
          "base_uri": "https://localhost:8080/"
        },
        "id": "ygYSeHxPBYT2",
        "outputId": "9e1e4df3-6b3d-42ed-ddb0-7fcb1ca2cf70"
      },
      "outputs": [
        {
          "data": {
            "text/plain": [
              "[PhysicalDevice(name='/physical_device:GPU:0', device_type='GPU')]"
            ]
          },
          "execution_count": 2,
          "metadata": {},
          "output_type": "execute_result"
        }
      ],
      "source": [
        "import numpy as np\n",
        "import tensorflow as tf\n",
        "tf.config.list_physical_devices('GPU')"
      ]
    },
    {
      "attachments": {},
      "cell_type": "markdown",
      "metadata": {},
      "source": [
        "### Defining custom objects for model loading"
      ]
    },
    {
      "cell_type": "code",
      "execution_count": 3,
      "metadata": {
        "id": "jX1J3f_aBYT3"
      },
      "outputs": [],
      "source": [
        "class ConvLayer(tf.keras.layers.Layer):\n",
        "    def __init__(self, n_layers, filters=50, kernel_size=(3, 3), activation=tf.nn.relu, **kwargs):\n",
        "        super().__init__(**kwargs)\n",
        "        self.convs = []\n",
        "        for conv in range(n_layers):\n",
        "            self.convs.append(\n",
        "                tf.keras.layers.Conv2D(filters=filters, kernel_size=kernel_size, activation=activation, padding='same')\n",
        "            )\n",
        "    \n",
        "    def call(self, input_tensor, training=False):\n",
        "        x = self.convs[0](input_tensor, training=training)\n",
        "        for i in range(1, len(self.convs)):\n",
        "            x = self.convs[i](x, training=training)\n",
        "            \n",
        "        return x"
      ]
    },
    {
      "cell_type": "code",
      "execution_count": 4,
      "metadata": {
        "id": "hXTlex7LBYT4"
      },
      "outputs": [],
      "source": [
        "class PrepLayer(tf.keras.layers.Layer):\n",
        "    def __init__(self, **kwargs):\n",
        "        super().__init__(**kwargs)\n",
        "        self.conv_layer_4_3x3 = ConvLayer(4, filters=50, kernel_size=(3, 3), activation=tf.nn.relu)\n",
        "        self.conv_layer_4_4x4 = ConvLayer(4, filters=50, kernel_size=(4, 4), activation=tf.nn.relu)\n",
        "        self.conv_layer_4_5x5 = ConvLayer(4, filters=50, kernel_size=(5, 5), activation=tf.nn.relu)\n",
        "\n",
        "        self.concat_1 = tf.keras.layers.Concatenate(axis=3)\n",
        "\n",
        "        self.conv_1_3x3 = ConvLayer(1, filters=50, kernel_size=(3, 3), activation=tf.nn.relu)\n",
        "        self.conv_1_4x4 = ConvLayer(1, filters=50, kernel_size=(4, 4), activation=tf.nn.relu)\n",
        "        self.conv_1_5x5 = ConvLayer(1, filters=50, kernel_size=(5, 5), activation=tf.nn.relu)\n",
        "\n",
        "        self.concat_2 = tf.keras.layers.Concatenate(axis=3)\n",
        "    \n",
        "    def call(self, input_tensor, training=False):\n",
        "        prep_input = tf.keras.layers.Rescaling(1./255, input_shape=input_tensor.shape)(input_tensor)\n",
        "        conv_4_3x3 = self.conv_layer_4_3x3(prep_input, training=training)\n",
        "        conv_4_4x4 = self.conv_layer_4_4x4(prep_input, training=training)\n",
        "        conv_4_5x5 = self.conv_layer_4_5x5(prep_input, training=training)\n",
        "\n",
        "        concat_1 = self.concat_1([conv_4_3x3, conv_4_4x4, conv_4_5x5])\n",
        "\n",
        "        conv_1_3x3 =  self.conv_1_3x3(concat_1)\n",
        "        conv_1_4x4 =  self.conv_1_4x4(concat_1)\n",
        "        conv_1_5x5 =  self.conv_1_5x5(concat_1)\n",
        "\n",
        "        return self.concat_2([conv_1_3x3, conv_1_4x4, conv_1_5x5])"
      ]
    },
    {
      "cell_type": "code",
      "execution_count": 5,
      "metadata": {
        "id": "71Egc2neBYT4"
      },
      "outputs": [],
      "source": [
        "class HideLayer(tf.keras.layers.Layer):\n",
        "    def __init__(self, **kwargs):\n",
        "        super().__init__(**kwargs)\n",
        "        self.prep_layer = PrepLayer()\n",
        "        self.concat_1 = tf.keras.layers.Concatenate(axis=3)\n",
        "\n",
        "        self.conv_layer_4_3x3 = ConvLayer(4, filters=50, kernel_size=(3, 3), activation=tf.nn.relu)\n",
        "        self.conv_layer_4_4x4 = ConvLayer(4, filters=50, kernel_size=(4, 4), activation=tf.nn.relu)\n",
        "        self.conv_layer_4_5x5 = ConvLayer(4, filters=50, kernel_size=(5, 5), activation=tf.nn.relu)\n",
        "\n",
        "        self.concat_2 = tf.keras.layers.Concatenate(axis=3)\n",
        "\n",
        "        self.conv_1_3x3 = ConvLayer(1, filters=50, kernel_size=(3, 3), activation=tf.nn.relu)\n",
        "        self.conv_1_4x4 = ConvLayer(1, filters=50, kernel_size=(4, 4), activation=tf.nn.relu)\n",
        "        self.conv_1_5x5 = ConvLayer(1, filters=50, kernel_size=(5, 5), activation=tf.nn.relu)\n",
        "\n",
        "        self.concat_3 = tf.keras.layers.Concatenate(axis=3)\n",
        "\n",
        "        self.conv_1_1x1 = ConvLayer(1, filters=3, kernel_size=(1, 1), activation=tf.nn.relu)\n",
        "    \n",
        "    def call(self, input_tensor, training=False):\n",
        "        prep_input = input_tensor[0]\n",
        "        hide_input = tf.keras.layers.Rescaling(1./255, input_shape=input_tensor[1].shape)(input_tensor[1])\n",
        "        concat_1 = self.concat_1([prep_input, hide_input])\n",
        "\n",
        "        conv_4_3x3 = self.conv_layer_4_3x3(concat_1, training=training)\n",
        "        conv_4_4x4 = self.conv_layer_4_4x4(concat_1, training=training)\n",
        "        conv_4_5x5 = self.conv_layer_4_5x5(concat_1, training=training)\n",
        "\n",
        "        concat_2 = self.concat_2([conv_4_3x3, conv_4_4x4, conv_4_5x5])\n",
        "\n",
        "        conv_1_3x3 =  self.conv_1_3x3(concat_2)\n",
        "        conv_1_4x4 =  self.conv_1_4x4(concat_2)\n",
        "        conv_1_5x5 =  self.conv_1_5x5(concat_2)\n",
        "        \n",
        "        concat_3 = self.concat_3([conv_1_3x3, conv_1_4x4, conv_1_5x5])\n",
        "\n",
        "        return  self.conv_1_1x1(concat_3)\n"
      ]
    },
    {
      "cell_type": "code",
      "execution_count": 6,
      "metadata": {
        "id": "ReyvPpNoBYT5"
      },
      "outputs": [],
      "source": [
        "class RevealLayer(tf.keras.layers.Layer):\n",
        "    def __init__(self, **kwargs):\n",
        "        super().__init__(**kwargs)\n",
        "        self.conv_layer_4_3x3 = ConvLayer(4, filters=50, kernel_size=(3, 3), activation=tf.nn.relu)\n",
        "        self.conv_layer_4_4x4 = ConvLayer(4, filters=50, kernel_size=(4, 4), activation=tf.nn.relu)\n",
        "        self.conv_layer_4_5x5 = ConvLayer(4, filters=50, kernel_size=(5, 5), activation=tf.nn.relu)\n",
        "\n",
        "        self.concat_1 = tf.keras.layers.Concatenate(axis=3)\n",
        "\n",
        "        self.conv_1_3x3 = ConvLayer(1, filters=50, kernel_size=(3, 3), activation=tf.nn.relu)\n",
        "        self.conv_1_4x4 = ConvLayer(1, filters=50, kernel_size=(4, 4), activation=tf.nn.relu)\n",
        "        self.conv_1_5x5 = ConvLayer(1, filters=50, kernel_size=(5, 5), activation=tf.nn.relu)\n",
        "\n",
        "        self.concat_2 = tf.keras.layers.Concatenate(axis=3)\n",
        "\n",
        "        self.conv_1_1x1 = ConvLayer(1, filters=3, kernel_size=(1, 1), activation=tf.nn.relu)\n",
        "    \n",
        "    def call(self, input_tensor, training=False):\n",
        "\n",
        "        conv_4_3x3 = self.conv_layer_4_3x3(input_tensor, training=training)\n",
        "        conv_4_4x4 = self.conv_layer_4_4x4(input_tensor, training=training)\n",
        "        conv_4_5x5 = self.conv_layer_4_5x5(input_tensor, training=training)\n",
        "\n",
        "        concat_1 = self.concat_1([conv_4_3x3, conv_4_4x4, conv_4_5x5])\n",
        "\n",
        "        conv_1_3x3 =  self.conv_1_3x3(concat_1)\n",
        "        conv_1_4x4 =  self.conv_1_4x4(concat_1)\n",
        "        conv_1_5x5 =  self.conv_1_5x5(concat_1)\n",
        "        \n",
        "        concat_2 = self.concat_2([conv_1_3x3, conv_1_4x4, conv_1_5x5])\n",
        "\n",
        "        return  self.conv_1_1x1(concat_2)"
      ]
    },
    {
      "cell_type": "code",
      "execution_count": 7,
      "metadata": {
        "id": "zRBAuJEQBYT5"
      },
      "outputs": [],
      "source": [
        "class MyModel(tf.keras.models.Model):\n",
        "    def __init__(self, **kwargs):\n",
        "        super().__init__(**kwargs)\n",
        "        self.prep_layer = PrepLayer()\n",
        "        self.hide_layer = HideLayer()\n",
        "        self.reveal_layer = RevealLayer()\n",
        "    \n",
        "    def call(self, input_tensor, training=False):\n",
        "        secret = input_tensor[0]\n",
        "        cover = input_tensor[1]\n",
        "        prep_output = self.prep_layer(secret)\n",
        "        hide_output = self.hide_layer([prep_output, cover])\n",
        "        reveal_output = self.reveal_layer(hide_output)\n",
        "        \n",
        "        return  reveal_output, hide_output\n",
        "\n",
        "    def model(self, inputs):\n",
        "        return tf.keras.Model(inputs=inputs, outputs=self.call(inputs))"
      ]
    },
    {
      "cell_type": "code",
      "execution_count": 8,
      "metadata": {
        "id": "lcWAPwEMBYT6"
      },
      "outputs": [],
      "source": [
        "class StenographyLoss(tf.keras.losses.Loss):\n",
        "    def __init__(self, beta=1.0, **kwargs):\n",
        "        super().__init__(**kwargs)\n",
        "        self.beta = beta\n",
        "\n",
        "    def call(self, y_true, y_pred):\n",
        "        beta = tf.constant(self.beta, name='beta')\n",
        "\n",
        "        secret_true = y_true[0]\n",
        "        secret_pred = y_pred[0]\n",
        "        \n",
        "        cover_true = y_true[1]\n",
        "        cover_pred = y_pred[1]\n",
        "\n",
        "        secret_mse = tf.losses.MSE(secret_true, secret_pred)\n",
        "        cover_mse = tf.losses.MSE(cover_true, cover_pred)\n",
        "\n",
        "        return tf.reduce_mean(cover_mse + beta * secret_mse)"
      ]
    },
    {
      "attachments": {},
      "cell_type": "markdown",
      "metadata": {},
      "source": [
        "### Loading complete model"
      ]
    },
    {
      "cell_type": "code",
      "execution_count": 9,
      "metadata": {},
      "outputs": [
        {
          "name": "stdout",
          "output_type": "stream",
          "text": [
            "Metal device set to: Apple M1\n",
            "\n",
            "systemMemory: 8.00 GB\n",
            "maxCacheSize: 2.67 GB\n",
            "\n",
            "WARNING:tensorflow:No training configuration found in the save file, so the model was *not* compiled. Compile it manually.\n"
          ]
        }
      ],
      "source": [
        "complete_model = tf.keras.models.load_model(\n",
        "    '../models/complete_model.h5', \n",
        "    custom_objects={\n",
        "        'PrepLayer': PrepLayer, \n",
        "        'HideLayer': HideLayer, \n",
        "        'RevealLayer': RevealLayer, \n",
        "        'StenographyLoss': StenographyLoss\n",
        "    }\n",
        ")"
      ]
    },
    {
      "cell_type": "code",
      "execution_count": 10,
      "metadata": {},
      "outputs": [
        {
          "name": "stdout",
          "output_type": "stream",
          "text": [
            "Model: \"model\"\n",
            "__________________________________________________________________________________________________\n",
            " Layer (type)                   Output Shape         Param #     Connected to                     \n",
            "==================================================================================================\n",
            " secret_input (InputLayer)      [(None, 64, 64, 3)]  0           []                               \n",
            "                                                                                                  \n",
            " prep_layer (PrepLayer)         (None, 64, 64, 150)  758250      ['secret_input[0][0]']           \n",
            "                                                                                                  \n",
            " cover_input (InputLayer)       [(None, 64, 64, 3)]  0           []                               \n",
            "                                                                                                  \n",
            " hide_layer (HideLayer)         (None, 64, 64, 3)    1133703     ['prep_layer[0][0]',             \n",
            "                                                                  'cover_input[0][0]']            \n",
            "                                                                                                  \n",
            " reveal_layer (RevealLayer)     (None, 64, 64, 3)    758703      ['hide_layer[0][0]']             \n",
            "                                                                                                  \n",
            "==================================================================================================\n",
            "Total params: 2,650,656\n",
            "Trainable params: 2,650,656\n",
            "Non-trainable params: 0\n",
            "__________________________________________________________________________________________________\n"
          ]
        }
      ],
      "source": [
        "complete_model.summary()"
      ]
    },
    {
      "attachments": {},
      "cell_type": "markdown",
      "metadata": {},
      "source": [
        "#### Loading images"
      ]
    },
    {
      "cell_type": "code",
      "execution_count": 11,
      "metadata": {},
      "outputs": [],
      "source": [
        "from PIL import Image"
      ]
    },
    {
      "attachments": {},
      "cell_type": "markdown",
      "metadata": {},
      "source": [
        "This will be the secret image."
      ]
    },
    {
      "cell_type": "code",
      "execution_count": 12,
      "metadata": {},
      "outputs": [
        {
          "data": {
            "image/png": "[encoded data removed]",
            "text/plain": [
              "<PIL.Image.Image image mode=RGB size=64x64>"
            ]
          },
          "execution_count": 12,
          "metadata": {},
          "output_type": "execute_result"
        }
      ],
      "source": [
        "secret = Image.open('./imgs/secret.png').convert('RGB')\n",
        "secret"
      ]
    },
    {
      "attachments": {},
      "cell_type": "markdown",
      "metadata": {},
      "source": [
        "This will be the cover image, that protects our secret."
      ]
    },
    {
      "cell_type": "code",
      "execution_count": 13,
      "metadata": {},
      "outputs": [
        {
          "data": {
            "image/png": "[encoded data removed]",
            "text/plain": [
              "<PIL.Image.Image image mode=RGB size=64x64>"
            ]
          },
          "execution_count": 13,
          "metadata": {},
          "output_type": "execute_result"
        }
      ],
      "source": [
        "cover = Image.open('./imgs/cover.png').convert('RGB')\n",
        "cover"
      ]
    },
    {
      "attachments": {},
      "cell_type": "markdown",
      "metadata": {},
      "source": [
        "Hiding our secret."
      ]
    },
    {
      "cell_type": "code",
      "execution_count": 14,
      "metadata": {
        "id": "jdO2Y_7KdQm8"
      },
      "outputs": [
        {
          "name": "stdout",
          "output_type": "stream",
          "text": [
            "1/1 [==============================] - 1s 601ms/step\n"
          ]
        }
      ],
      "source": [
        "revealed, cover_with_secret = complete_model.predict(\n",
        "    [np.expand_dims(np.array(secret), axis=0), np.expand_dims(np.array(cover), axis=0)]\n",
        ")"
      ]
    },
    {
      "attachments": {},
      "cell_type": "markdown",
      "metadata": {},
      "source": [
        "Displaying cover."
      ]
    },
    {
      "cell_type": "code",
      "execution_count": 15,
      "metadata": {},
      "outputs": [
        {
          "data": {
            "image/png": "[encoded data removed]",
            "text/plain": [
              "<PIL.Image.Image image mode=RGB size=64x64>"
            ]
          },
          "execution_count": 15,
          "metadata": {},
          "output_type": "execute_result"
        }
      ],
      "source": [
        "Image.fromarray(np.array(cover_with_secret[0], dtype=np.uint8), 'RGB')"
      ]
    },
    {
      "attachments": {},
      "cell_type": "markdown",
      "metadata": {},
      "source": [
        "Image revealed from our cover."
      ]
    },
    {
      "cell_type": "code",
      "execution_count": 16,
      "metadata": {},
      "outputs": [
        {
          "data": {
            "image/png": "[encoded data removed]",
            "text/plain": [
              "<PIL.Image.Image image mode=RGB size=64x64>"
            ]
          },
          "execution_count": 16,
          "metadata": {},
          "output_type": "execute_result"
        }
      ],
      "source": [
        "Image.fromarray(np.array(revealed[0], dtype=np.uint8), 'RGB')"
      ]
    },
    {
      "attachments": {},
      "cell_type": "markdown",
      "metadata": {},
      "source": [
        "### Testing a standalone reveal model"
      ]
    },
    {
      "cell_type": "code",
      "execution_count": 17,
      "metadata": {},
      "outputs": [
        {
          "name": "stdout",
          "output_type": "stream",
          "text": [
            "WARNING:tensorflow:No training configuration found in the save file, so the model was *not* compiled. Compile it manually.\n"
          ]
        }
      ],
      "source": [
        "reveal_model = tf.keras.models.load_model(\n",
        "    '../models/reveal_model.h5', \n",
        "    custom_objects={\n",
        "        'RevealLayer': RevealLayer, \n",
        "        'StenographyLoss': StenographyLoss\n",
        "    }\n",
        ")"
      ]
    },
    {
      "cell_type": "code",
      "execution_count": 18,
      "metadata": {},
      "outputs": [
        {
          "name": "stdout",
          "output_type": "stream",
          "text": [
            "Model: \"model_1\"\n",
            "_________________________________________________________________\n",
            " Layer (type)                Output Shape              Param #   \n",
            "=================================================================\n",
            " input_1 (InputLayer)        [(None, 64, 64, 3)]       0         \n",
            "                                                                 \n",
            " reveal_layer (RevealLayer)  (None, 64, 64, 3)         758703    \n",
            "                                                                 \n",
            "=================================================================\n",
            "Total params: 758,703\n",
            "Trainable params: 758,703\n",
            "Non-trainable params: 0\n",
            "_________________________________________________________________\n"
          ]
        }
      ],
      "source": [
        "reveal_model.summary()"
      ]
    },
    {
      "cell_type": "code",
      "execution_count": 19,
      "metadata": {},
      "outputs": [
        {
          "name": "stdout",
          "output_type": "stream",
          "text": [
            "1/1 [==============================] - 0s 182ms/step\n"
          ]
        }
      ],
      "source": [
        "revealed_by_reveal_model = reveal_model.predict(cover_with_secret)[0]"
      ]
    },
    {
      "cell_type": "code",
      "execution_count": 20,
      "metadata": {},
      "outputs": [
        {
          "data": {
            "image/png": "[encoded data removed]",
            "text/plain": [
              "<PIL.Image.Image image mode=RGB size=64x64>"
            ]
          },
          "execution_count": 20,
          "metadata": {},
          "output_type": "execute_result"
        }
      ],
      "source": [
        "Image.fromarray(np.array(revealed_by_reveal_model, dtype=np.uint8), 'RGB')"
      ]
    }
  ],
  "metadata": {
    "accelerator": "GPU",
    "colab": {
      "provenance": []
    },
    "gpuClass": "standard",
    "kernelspec": {
      "display_name": "tensorflow-gpu",
      "language": "python",
      "name": "tensorflow-gpu"
    },
    "language_info": {
      "codemirror_mode": {
        "name": "ipython",
        "version": 3
      },
      "file_extension": ".py",
      "mimetype": "text/x-python",
      "name": "python",
      "nbconvert_exporter": "python",
      "pygments_lexer": "ipython3",
      "version": "3.9.13"
    },
    "vscode": {
      "interpreter": {
        "hash": "b0fa6594d8f4cbf19f97940f81e996739fb7646882a419484c72d19e05852a7e"
      }
    },
    "widgets": {
      "application/vnd.jupyter.widget-state+json": {
        "08247855086944968fa02c8366d0d1b9": {
          "model_module": "@jupyter-widgets/base",
          "model_module_version": "1.2.0",
          "model_name": "LayoutModel",
          "state": {
            "_model_module": "@jupyter-widgets/base",
            "_model_module_version": "1.2.0",
            "_model_name": "LayoutModel",
            "_view_count": null,
            "_view_module": "@jupyter-widgets/base",
            "_view_module_version": "1.2.0",
            "_view_name": "LayoutView",
            "align_content": null,
            "align_items": null,
            "align_self": null,
            "border": null,
            "bottom": null,
            "display": null,
            "flex": null,
            "flex_flow": null,
            "grid_area": null,
            "grid_auto_columns": null,
            "grid_auto_flow": null,
            "grid_auto_rows": null,
            "grid_column": null,
            "grid_gap": null,
            "grid_row": null,
            "grid_template_areas": null,
            "grid_template_columns": null,
            "grid_template_rows": null,
            "height": null,
            "justify_content": null,
            "justify_items": null,
            "left": null,
            "margin": null,
            "max_height": null,
            "max_width": null,
            "min_height": null,
            "min_width": null,
            "object_fit": null,
            "object_position": null,
            "order": null,
            "overflow": null,
            "overflow_x": null,
            "overflow_y": null,
            "padding": null,
            "right": null,
            "top": null,
            "visibility": null,
            "width": null
          }
        },
        "10833ce3156a497bbcd7a857cfbf7f96": {
          "model_module": "@jupyter-widgets/controls",
          "model_module_version": "1.5.0",
          "model_name": "ProgressStyleModel",
          "state": {
            "_model_module": "@jupyter-widgets/controls",
            "_model_module_version": "1.5.0",
            "_model_name": "ProgressStyleModel",
            "_view_count": null,
            "_view_module": "@jupyter-widgets/base",
            "_view_module_version": "1.2.0",
            "_view_name": "StyleView",
            "bar_color": null,
            "description_width": ""
          }
        },
        "1cece1ea8af947ffb1d094df6ba5bb3c": {
          "model_module": "@jupyter-widgets/controls",
          "model_module_version": "1.5.0",
          "model_name": "HBoxModel",
          "state": {
            "_dom_classes": [],
            "_model_module": "@jupyter-widgets/controls",
            "_model_module_version": "1.5.0",
            "_model_name": "HBoxModel",
            "_view_count": null,
            "_view_module": "@jupyter-widgets/controls",
            "_view_module_version": "1.5.0",
            "_view_name": "HBoxView",
            "box_style": "",
            "children": [
              "IPY_MODEL_a9864e2189894df4aa9a205d80708931",
              "IPY_MODEL_3af3feb5b0e848c2a6ec65dddb10bd06",
              "IPY_MODEL_9f8d7884768e4b8c821194c918b7a387"
            ],
            "layout": "IPY_MODEL_08247855086944968fa02c8366d0d1b9"
          }
        },
        "32763fc1ffbb42d28b363a94aa2e9f25": {
          "model_module": "@jupyter-widgets/controls",
          "model_module_version": "1.5.0",
          "model_name": "DescriptionStyleModel",
          "state": {
            "_model_module": "@jupyter-widgets/controls",
            "_model_module_version": "1.5.0",
            "_model_name": "DescriptionStyleModel",
            "_view_count": null,
            "_view_module": "@jupyter-widgets/base",
            "_view_module_version": "1.2.0",
            "_view_name": "StyleView",
            "description_width": ""
          }
        },
        "3af3feb5b0e848c2a6ec65dddb10bd06": {
          "model_module": "@jupyter-widgets/controls",
          "model_module_version": "1.5.0",
          "model_name": "FloatProgressModel",
          "state": {
            "_dom_classes": [],
            "_model_module": "@jupyter-widgets/controls",
            "_model_module_version": "1.5.0",
            "_model_name": "FloatProgressModel",
            "_view_count": null,
            "_view_module": "@jupyter-widgets/controls",
            "_view_module_version": "1.5.0",
            "_view_name": "ProgressView",
            "bar_style": "success",
            "description": "",
            "description_tooltip": null,
            "layout": "IPY_MODEL_cab5f845c0f7442e91ed81324fd6240b",
            "max": 2,
            "min": 0,
            "orientation": "horizontal",
            "style": "IPY_MODEL_10833ce3156a497bbcd7a857cfbf7f96",
            "value": 2
          }
        },
        "746208597d004f54ba8ebea90052d58a": {
          "model_module": "@jupyter-widgets/base",
          "model_module_version": "1.2.0",
          "model_name": "LayoutModel",
          "state": {
            "_model_module": "@jupyter-widgets/base",
            "_model_module_version": "1.2.0",
            "_model_name": "LayoutModel",
            "_view_count": null,
            "_view_module": "@jupyter-widgets/base",
            "_view_module_version": "1.2.0",
            "_view_name": "LayoutView",
            "align_content": null,
            "align_items": null,
            "align_self": null,
            "border": null,
            "bottom": null,
            "display": null,
            "flex": null,
            "flex_flow": null,
            "grid_area": null,
            "grid_auto_columns": null,
            "grid_auto_flow": null,
            "grid_auto_rows": null,
            "grid_column": null,
            "grid_gap": null,
            "grid_row": null,
            "grid_template_areas": null,
            "grid_template_columns": null,
            "grid_template_rows": null,
            "height": null,
            "justify_content": null,
            "justify_items": null,
            "left": null,
            "margin": null,
            "max_height": null,
            "max_width": null,
            "min_height": null,
            "min_width": null,
            "object_fit": null,
            "object_position": null,
            "order": null,
            "overflow": null,
            "overflow_x": null,
            "overflow_y": null,
            "padding": null,
            "right": null,
            "top": null,
            "visibility": null,
            "width": null
          }
        },
        "8aca562f7bd14cbe8faef455f2eba703": {
          "model_module": "@jupyter-widgets/base",
          "model_module_version": "1.2.0",
          "model_name": "LayoutModel",
          "state": {
            "_model_module": "@jupyter-widgets/base",
            "_model_module_version": "1.2.0",
            "_model_name": "LayoutModel",
            "_view_count": null,
            "_view_module": "@jupyter-widgets/base",
            "_view_module_version": "1.2.0",
            "_view_name": "LayoutView",
            "align_content": null,
            "align_items": null,
            "align_self": null,
            "border": null,
            "bottom": null,
            "display": null,
            "flex": null,
            "flex_flow": null,
            "grid_area": null,
            "grid_auto_columns": null,
            "grid_auto_flow": null,
            "grid_auto_rows": null,
            "grid_column": null,
            "grid_gap": null,
            "grid_row": null,
            "grid_template_areas": null,
            "grid_template_columns": null,
            "grid_template_rows": null,
            "height": null,
            "justify_content": null,
            "justify_items": null,
            "left": null,
            "margin": null,
            "max_height": null,
            "max_width": null,
            "min_height": null,
            "min_width": null,
            "object_fit": null,
            "object_position": null,
            "order": null,
            "overflow": null,
            "overflow_x": null,
            "overflow_y": null,
            "padding": null,
            "right": null,
            "top": null,
            "visibility": null,
            "width": null
          }
        },
        "9f8d7884768e4b8c821194c918b7a387": {
          "model_module": "@jupyter-widgets/controls",
          "model_module_version": "1.5.0",
          "model_name": "HTMLModel",
          "state": {
            "_dom_classes": [],
            "_model_module": "@jupyter-widgets/controls",
            "_model_module_version": "1.5.0",
            "_model_name": "HTMLModel",
            "_view_count": null,
            "_view_module": "@jupyter-widgets/controls",
            "_view_module_version": "1.5.0",
            "_view_name": "HTMLView",
            "description": "",
            "description_tooltip": null,
            "layout": "IPY_MODEL_746208597d004f54ba8ebea90052d58a",
            "placeholder": "​",
            "style": "IPY_MODEL_32763fc1ffbb42d28b363a94aa2e9f25",
            "value": " 2/2 [00:00&lt;00:00, 55.35it/s]"
          }
        },
        "a77e545e4c8a477fa23fc24532373e7e": {
          "model_module": "@jupyter-widgets/controls",
          "model_module_version": "1.5.0",
          "model_name": "DescriptionStyleModel",
          "state": {
            "_model_module": "@jupyter-widgets/controls",
            "_model_module_version": "1.5.0",
            "_model_name": "DescriptionStyleModel",
            "_view_count": null,
            "_view_module": "@jupyter-widgets/base",
            "_view_module_version": "1.2.0",
            "_view_name": "StyleView",
            "description_width": ""
          }
        },
        "a9864e2189894df4aa9a205d80708931": {
          "model_module": "@jupyter-widgets/controls",
          "model_module_version": "1.5.0",
          "model_name": "HTMLModel",
          "state": {
            "_dom_classes": [],
            "_model_module": "@jupyter-widgets/controls",
            "_model_module_version": "1.5.0",
            "_model_name": "HTMLModel",
            "_view_count": null,
            "_view_module": "@jupyter-widgets/controls",
            "_view_module_version": "1.5.0",
            "_view_name": "HTMLView",
            "description": "",
            "description_tooltip": null,
            "layout": "IPY_MODEL_8aca562f7bd14cbe8faef455f2eba703",
            "placeholder": "​",
            "style": "IPY_MODEL_a77e545e4c8a477fa23fc24532373e7e",
            "value": "100%"
          }
        },
        "cab5f845c0f7442e91ed81324fd6240b": {
          "model_module": "@jupyter-widgets/base",
          "model_module_version": "1.2.0",
          "model_name": "LayoutModel",
          "state": {
            "_model_module": "@jupyter-widgets/base",
            "_model_module_version": "1.2.0",
            "_model_name": "LayoutModel",
            "_view_count": null,
            "_view_module": "@jupyter-widgets/base",
            "_view_module_version": "1.2.0",
            "_view_name": "LayoutView",
            "align_content": null,
            "align_items": null,
            "align_self": null,
            "border": null,
            "bottom": null,
            "display": null,
            "flex": null,
            "flex_flow": null,
            "grid_area": null,
            "grid_auto_columns": null,
            "grid_auto_flow": null,
            "grid_auto_rows": null,
            "grid_column": null,
            "grid_gap": null,
            "grid_row": null,
            "grid_template_areas": null,
            "grid_template_columns": null,
            "grid_template_rows": null,
            "height": null,
            "justify_content": null,
            "justify_items": null,
            "left": null,
            "margin": null,
            "max_height": null,
            "max_width": null,
            "min_height": null,
            "min_width": null,
            "object_fit": null,
            "object_position": null,
            "order": null,
            "overflow": null,
            "overflow_x": null,
            "overflow_y": null,
            "padding": null,
            "right": null,
            "top": null,
            "visibility": null,
            "width": null
          }
        }
      }
    }
  },
  "nbformat": 4,
  "nbformat_minor": 0
}
